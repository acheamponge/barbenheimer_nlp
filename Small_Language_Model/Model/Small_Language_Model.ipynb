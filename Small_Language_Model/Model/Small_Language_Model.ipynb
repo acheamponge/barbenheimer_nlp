{
  "cells": [
    {
      "cell_type": "code",
      "execution_count": 2,
      "metadata": {
        "id": "H1PqS7AeF5NK"
      },
      "outputs": [],
      "source": [
        "!mkdir Scripts"
      ]
    },
    {
      "cell_type": "code",
      "execution_count": 11,
      "metadata": {
        "id": "jZNAviZnGbF6"
      },
      "outputs": [],
      "source": []
    },
    {
      "cell_type": "code",
      "execution_count": 10,
      "metadata": {
        "id": "9SmZbcW7G1UM"
      },
      "outputs": [],
      "source": [
        "from numpy import array\n",
        "from keras.preprocessing.text import Tokenizer\n",
        "from keras.preprocessing.sequence import pad_sequences\n",
        "from keras.utils import to_categorical\n",
        "from keras.models import Sequential\n",
        "from keras.layers import Dense\n",
        "from keras.layers import LSTM\n",
        "from keras.layers import Embedding\n",
        "import os"
      ]
    },
    {
      "cell_type": "code",
      "execution_count": 18,
      "metadata": {
        "id": "ge8YxRT9G36P"
      },
      "outputs": [],
      "source": [
        "data = ''\n",
        "for f in os.listdir('/content/Scripts'):\n",
        "    try:\n",
        "      with open('/content/Scripts/'+f,\"r+\") as file:\n",
        "        content=file.read()\n",
        "        data+=content\n",
        "    except:\n",
        "      pass"
      ]
    },
    {
      "cell_type": "code",
      "execution_count": 19,
      "metadata": {
        "id": "I2ObOrVGLu0K"
      },
      "outputs": [],
      "source": []
    },
    {
      "cell_type": "code",
      "execution_count": 20,
      "metadata": {
        "id": "6u7_zkNwG-Rm"
      },
      "outputs": [],
      "source": [
        "def generate_seq(model, tokenizer, max_length, seed_text, n_words):\n",
        "  in_text = seed_text\n",
        "\n",
        "  for _ in range(n_words):\n",
        "    encoded = tokenizer.texts_to_sequences([in_text])[0]\n",
        "    encoded = pad_sequences([encoded], maxlen=max_length, padding='pre')\n",
        "    yhat = model.predict_classes(encoded, verbose=0)\n",
        "    out_word = ''\n",
        "    for word, index in tokenizer.word_index.items():\n",
        "      if index == yhat:\n",
        "        out_word == word\n",
        "        break\n",
        "    in_text += ' ' + out_word\n",
        "  return in_text"
      ]
    },
    {
      "cell_type": "code",
      "execution_count": 21,
      "metadata": {
        "id": "kt6usoLIJcv_"
      },
      "outputs": [],
      "source": [
        "tokenizer = Tokenizer()\n",
        "tokenizer.fit_on_texts([data])"
      ]
    },
    {
      "cell_type": "code",
      "execution_count": 22,
      "metadata": {
        "id": "EhfQueCUMDQE"
      },
      "outputs": [],
      "source": [
        "vocab_size = len(tokenizer.word_index)+1"
      ]
    },
    {
      "cell_type": "code",
      "execution_count": 23,
      "metadata": {
        "id": "31v-unDlMHxa"
      },
      "outputs": [],
      "source": [
        "sequences=list()\n",
        "for line in data.split('.'):\n",
        "  encoded = tokenizer.texts_to_sequences([line])[0]\n",
        "  for i in range(1, len(encoded)):\n",
        "    sequence = encoded[:i+1]\n",
        "    sequences.append(sequence)"
      ]
    },
    {
      "cell_type": "code",
      "execution_count": 24,
      "metadata": {
        "colab": {
          "base_uri": "https://localhost:8080/"
        },
        "id": "zWmRpiTBMKCP",
        "outputId": "cf233234-8ad1-4c18-f07e-8ec7e76125f1"
      },
      "outputs": [
        {
          "name": "stdout",
          "output_type": "stream",
          "text": [
            "Max Sequence Length: 173\n",
            "Model: \"sequential\"\n",
            "_________________________________________________________________\n",
            " Layer (type)                Output Shape              Param #   \n",
            "=================================================================\n",
            " embedding (Embedding)       (None, 172, 10)           181660    \n",
            "                                                                 \n",
            " lstm (LSTM)                 (None, 50)                12200     \n",
            "                                                                 \n",
            " dense (Dense)               (None, 18166)             926466    \n",
            "                                                                 \n",
            "=================================================================\n",
            "Total params: 1120326 (4.27 MB)\n",
            "Trainable params: 1120326 (4.27 MB)\n",
            "Non-trainable params: 0 (0.00 Byte)\n",
            "_________________________________________________________________\n",
            "None\n",
            "Epoch 1/10\n",
            "10372/10372 - 612s - loss: 6.9256 - accuracy: 0.0714 - 612s/epoch - 59ms/step\n",
            "Epoch 2/10\n",
            "10372/10372 - 611s - loss: 6.1551 - accuracy: 0.1187 - 611s/epoch - 59ms/step\n",
            "Epoch 3/10\n",
            "10372/10372 - 611s - loss: 5.8342 - accuracy: 0.1408 - 611s/epoch - 59ms/step\n",
            "Epoch 4/10\n",
            "10372/10372 - 611s - loss: 5.6510 - accuracy: 0.1517 - 611s/epoch - 59ms/step\n",
            "Epoch 5/10\n",
            "10372/10372 - 610s - loss: 5.5154 - accuracy: 0.1607 - 610s/epoch - 59ms/step\n",
            "Epoch 6/10\n",
            "10372/10372 - 611s - loss: 5.4063 - accuracy: 0.1668 - 611s/epoch - 59ms/step\n",
            "Epoch 7/10\n",
            "10372/10372 - 610s - loss: 5.3159 - accuracy: 0.1717 - 610s/epoch - 59ms/step\n",
            "Epoch 8/10\n",
            "10372/10372 - 611s - loss: 5.2339 - accuracy: 0.1755 - 611s/epoch - 59ms/step\n",
            "Epoch 9/10\n",
            "10372/10372 - 609s - loss: 5.1662 - accuracy: 0.1787 - 609s/epoch - 59ms/step\n",
            "Epoch 10/10\n",
            "10372/10372 - 608s - loss: 5.1152 - accuracy: 0.1815 - 608s/epoch - 59ms/step\n"
          ]
        },
        {
          "data": {
            "text/plain": [
              "<keras.src.callbacks.History at 0x7d3dbf420f40>"
            ]
          },
          "execution_count": 24,
          "metadata": {},
          "output_type": "execute_result"
        }
      ],
      "source": [
        "max_length = max([len(seq) for seq in sequences])\n",
        "sequences = pad_sequences(sequences, maxlen=max_length, padding='pre')\n",
        "print('Max Sequence Length: %d' % max_length)\n",
        "# split into input and output elements\n",
        "sequences = array(sequences)\n",
        "X, y = sequences[:,:-1],sequences[:,-1]\n",
        "y = to_categorical(y, num_classes=vocab_size)\n",
        "# define model\n",
        "model = Sequential()\n",
        "model.add(Embedding(vocab_size, 10, input_length=max_length-1))\n",
        "model.add(LSTM(50))\n",
        "model.add(Dense(vocab_size, activation='softmax'))\n",
        "print(model.summary())\n",
        "# compile network\n",
        "model.compile(loss='categorical_crossentropy', optimizer='adam', metrics=['accuracy'])\n",
        "# fit network\n",
        "model.fit(X, y, epochs=10, verbose=2)"
      ]
    },
    {
      "cell_type": "code",
      "execution_count": 25,
      "metadata": {
        "colab": {
          "base_uri": "https://localhost:8080/"
        },
        "id": "W-91PuzPMNpH",
        "outputId": "df4f9b13-af8d-404f-9bfd-f39675fe3ee3"
      },
      "outputs": [
        {
          "name": "stdout",
          "output_type": "stream",
          "text": [
            "Saved model to disk\n"
          ]
        }
      ],
      "source": [
        "\n",
        "model_json = model.to_json()\n",
        "with open(\"model.json\", \"w\") as json_file:\n",
        "    json_file.write(model_json)\n",
        "# serialize weights to HDF5\n",
        "model.save_weights(\"model.h5\")\n",
        "print(\"Saved model to disk\")"
      ]
    },
    {
      "cell_type": "code",
      "execution_count": null,
      "metadata": {
        "id": "rgaleBHhlZ87"
      },
      "outputs": [],
      "source": []
    }
  ],
  "metadata": {
    "accelerator": "TPU",
    "colab": {
      "gpuType": "V28",
      "machine_shape": "hm",
      "provenance": []
    },
    "kernelspec": {
      "display_name": "Python 3",
      "name": "python3"
    },
    "language_info": {
      "name": "python"
    }
  },
  "nbformat": 4,
  "nbformat_minor": 0
}
